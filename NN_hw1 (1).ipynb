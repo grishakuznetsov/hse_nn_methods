{
  "nbformat": 4,
  "nbformat_minor": 0,
  "metadata": {
    "colab": {
      "name": "NN_hw1.ipynb",
      "provenance": [],
      "collapsed_sections": []
    },
    "kernelspec": {
      "name": "python3",
      "display_name": "Python 3"
    },
    "language_info": {
      "name": "python"
    },
    "accelerator": "GPU"
  },
  "cells": [
    {
      "cell_type": "markdown",
      "metadata": {
        "id": "QQaYwh2MTwES"
      },
      "source": [
        "1) проанализировать данные (все, на что хватит вашей фантазии, хороший анализ включает в себя графики и статистические инструменты анализа, можно приходить с вопросами \"какой инструмент поможет мне проверить такую-то гипотезу/хочу посмотреть вот это вот, как это сделать\", предварительно не стесняйтесь гуглить) 1 балл\n",
        "\n",
        "2) подготовить данные (стемминг, лемматизация, убрать мусор и стоп-слова, нормализовать... все, что покажется вам разумным относительно данных, но вы должны кратко (комментарием к этому блоку кода в тетрадке) объяснить почему вы сделали именно такой препроцессинг. Хороший препроцессинг - разумный, в данном случае чем больше тем не всегда лучше) 1 балла\n",
        "\n",
        "*3) векторизовать тексты (контекстуальные эммбединги пока что не берем, только BoW и TF-IDF) 0.5 балл*\n",
        "\n",
        "4) сделать гридсерч по нескольким моделям (у нас 2 задания, классификация и регрессия), подобрать гиперпараметры, выбрать лучшую модель, рассказать, почему, на ваш взгляд,лучший результат показал лучший алгоритм 1 балл\n",
        "\n",
        "5) оценить и проанализировать качество лучших решений для каждой задачи (рассказать с чем ваша модель справляется хорошо, а где у нее \"слабые места\", можно ли как-то улучшить ваши результаты. Хороший анализ сопровождается графиками) 1,5 балла"
      ]
    },
    {
      "cell_type": "code",
      "metadata": {
        "colab": {
          "base_uri": "https://localhost:8080/"
        },
        "id": "QqFshzpPUUCT",
        "outputId": "40cd5864-43bb-4492-97e4-cebfc93b13a7"
      },
      "source": [
        "import pandas as pd\n",
        "import numpy as np\n",
        "import re\n",
        "import string\n",
        "import nltk\n",
        "nltk.download('words')\n",
        "nltk.download('stopwords')\n",
        "nltk.download('punkt')\n",
        "nltk.download('wordnet')\n",
        "from nltk.corpus import stopwords, words\n",
        "STOPWORDS = stopwords.words('english')\n",
        "from nltk.stem import WordNetLemmatizer\n",
        "import matplotlib.pyplot as plt\n",
        "plt.style.use('ggplot')\n",
        "from sklearn.feature_extraction.text import CountVectorizer, TfidfVectorizer, TfidfTransformer\n",
        "from sklearn.model_selection import train_test_split\n",
        "from sklearn.linear_model import LinearRegression, Ridge, LogisticRegression, RidgeCV, SGDRegressor\n",
        "from sklearn.neighbors import KNeighborsClassifier\n",
        "from sklearn.metrics import *\n",
        "from sklearn.multiclass import OneVsOneClassifier\n",
        "from sklearn.model_selection import GridSearchCV, KFold\n",
        "from sklearn.pipeline import Pipeline\n",
        "from sklearn.naive_bayes import MultinomialNB\n",
        "from sklearn.svm import LinearSVC"
      ],
      "execution_count": 1,
      "outputs": [
        {
          "output_type": "stream",
          "name": "stdout",
          "text": [
            "[nltk_data] Downloading package words to /root/nltk_data...\n",
            "[nltk_data]   Package words is already up-to-date!\n",
            "[nltk_data] Downloading package stopwords to /root/nltk_data...\n",
            "[nltk_data]   Package stopwords is already up-to-date!\n",
            "[nltk_data] Downloading package punkt to /root/nltk_data...\n",
            "[nltk_data]   Package punkt is already up-to-date!\n",
            "[nltk_data] Downloading package wordnet to /root/nltk_data...\n",
            "[nltk_data]   Package wordnet is already up-to-date!\n"
          ]
        }
      ]
    },
    {
      "cell_type": "markdown",
      "metadata": {
        "id": "UD5ldf0mEi-D"
      },
      "source": [
        "# Price prediction"
      ]
    },
    {
      "cell_type": "code",
      "metadata": {
        "id": "W20ZGhpyZIey"
      },
      "source": [
        "def clean_description(desc):\n",
        "  for ps in string.punctuation:\n",
        "    desc = desc.replace(ps, '')\n",
        "  desc = re.sub(r'\\d*', '', desc)\n",
        "  desc = desc.lower()\n",
        "  desc = ''.join(filter(lambda x: x in string.printable, desc))\n",
        "  clean_words = []\n",
        "  for w in desc.split():\n",
        "    if w not in STOPWORDS:\n",
        "      clean_words.append(w)\n",
        "  out = lemmatize(' '.join(clean_words))\n",
        "  if out:\n",
        "    if out == 'report abuse':\n",
        "      return np.nan\n",
        "    elif out == 'verified purchase':\n",
        "      return np.nan\n",
        "    else:\n",
        "      return out\n",
        "  else:\n",
        "    return np.nan\n",
        "  \n",
        "\n",
        "def norm(df):\n",
        "  return (df-df.min())/(df.max()-df.min())\n",
        "\n",
        "\n",
        "def clean_normalize_price(ser):\n",
        "  ser = ser.apply(lambda x: x.replace('₹', ''))\n",
        "  ser = ser.apply(float).apply(int)\n",
        "  return norm(ser)\n",
        "\n",
        "\n",
        "def lemmatize(x):\n",
        "  wordnet_lemmatizer = WordNetLemmatizer()\n",
        "  tokenization = nltk.word_tokenize(x)\n",
        "  return ' '.join([wordnet_lemmatizer.lemmatize(w) for w in tokenization])\n",
        "\n",
        "\n",
        "def prepare_data_frame(df):\n",
        "  df_out = pd.DataFrame()\n",
        "  df_out['price_value'] = df['price_value'].str.replace('₹', '').apply(float).apply(int)\n",
        "  df_out['product_description'] = df['product_description'].apply(clean_description)\n",
        "  df_out['price'] = clean_normalize_price(df['price'])\n",
        "  return df_out\n"
      ],
      "execution_count": 2,
      "outputs": []
    },
    {
      "cell_type": "code",
      "metadata": {
        "colab": {
          "base_uri": "https://localhost:8080/",
          "height": 528
        },
        "id": "TsrofrWKUfDu",
        "outputId": "dd25db4a-d22b-4ac2-d148-4099e0870f99"
      },
      "source": [
        "data = pd.read_csv('Shoes_Data.csv')\n",
        "price_df = data[['product_description', 'price']]\n",
        "price_df['price_value'] = price_df['price']\n",
        "price_df"
      ],
      "execution_count": 3,
      "outputs": [
        {
          "output_type": "stream",
          "name": "stderr",
          "text": [
            "/usr/local/lib/python3.7/dist-packages/ipykernel_launcher.py:3: SettingWithCopyWarning: \n",
            "A value is trying to be set on a copy of a slice from a DataFrame.\n",
            "Try using .loc[row_indexer,col_indexer] = value instead\n",
            "\n",
            "See the caveats in the documentation: https://pandas.pydata.org/pandas-docs/stable/user_guide/indexing.html#returning-a-view-versus-a-copy\n",
            "  This is separate from the ipykernel package so we can avoid doing imports until\n"
          ]
        },
        {
          "output_type": "execute_result",
          "data": {
            "text/html": [
              "<div>\n",
              "<style scoped>\n",
              "    .dataframe tbody tr th:only-of-type {\n",
              "        vertical-align: middle;\n",
              "    }\n",
              "\n",
              "    .dataframe tbody tr th {\n",
              "        vertical-align: top;\n",
              "    }\n",
              "\n",
              "    .dataframe thead th {\n",
              "        text-align: right;\n",
              "    }\n",
              "</style>\n",
              "<table border=\"1\" class=\"dataframe\">\n",
              "  <thead>\n",
              "    <tr style=\"text-align: right;\">\n",
              "      <th></th>\n",
              "      <th>product_description</th>\n",
              "      <th>price</th>\n",
              "      <th>price_value</th>\n",
              "    </tr>\n",
              "  </thead>\n",
              "  <tbody>\n",
              "    <tr>\n",
              "      <th>0</th>\n",
              "      <td>Elevate your style with this classy pair of Ru...</td>\n",
              "      <td>₹279.00</td>\n",
              "      <td>₹279.00</td>\n",
              "    </tr>\n",
              "    <tr>\n",
              "      <th>1</th>\n",
              "      <td>The product will be an excellent pick for you....</td>\n",
              "      <td>₹479.00</td>\n",
              "      <td>₹479.00</td>\n",
              "    </tr>\n",
              "    <tr>\n",
              "      <th>2</th>\n",
              "      <td>Flaunt with these stylish and unique red casua...</td>\n",
              "      <td>₹430.00</td>\n",
              "      <td>₹430.00</td>\n",
              "    </tr>\n",
              "    <tr>\n",
              "      <th>3</th>\n",
              "      <td>Robbie Jones Shoes Are Designed To Keeping In ...</td>\n",
              "      <td>₹499.00</td>\n",
              "      <td>₹499.00</td>\n",
              "    </tr>\n",
              "    <tr>\n",
              "      <th>4</th>\n",
              "      <td>Sparx is a spectacular range of footwear from ...</td>\n",
              "      <td>₹499.00</td>\n",
              "      <td>₹499.00</td>\n",
              "    </tr>\n",
              "    <tr>\n",
              "      <th>...</th>\n",
              "      <td>...</td>\n",
              "      <td>...</td>\n",
              "      <td>...</td>\n",
              "    </tr>\n",
              "    <tr>\n",
              "      <th>1225</th>\n",
              "      <td>The Nike react vision is a STORY of surreal co...</td>\n",
              "      <td>₹7256.00</td>\n",
              "      <td>₹7256.00</td>\n",
              "    </tr>\n",
              "    <tr>\n",
              "      <th>1226</th>\n",
              "      <td>The B.O.G limitless is Puma's key style for th...</td>\n",
              "      <td>₹5822.00</td>\n",
              "      <td>₹5822.00</td>\n",
              "    </tr>\n",
              "    <tr>\n",
              "      <th>1227</th>\n",
              "      <td>Lead the pack in New Balance’s Echolucent snea...</td>\n",
              "      <td>₹5362.00</td>\n",
              "      <td>₹5362.00</td>\n",
              "    </tr>\n",
              "    <tr>\n",
              "      <th>1228</th>\n",
              "      <td>Nike మహిళల రన్నింగ్ షూ ఫీల్స్ మరియు రూపం మృదువ...</td>\n",
              "      <td>₹7480.00</td>\n",
              "      <td>₹7480.00</td>\n",
              "    </tr>\n",
              "    <tr>\n",
              "      <th>1229</th>\n",
              "      <td>The GT-2000 7 achieves a reassuringly firm rid...</td>\n",
              "      <td>₹5719.00</td>\n",
              "      <td>₹5719.00</td>\n",
              "    </tr>\n",
              "  </tbody>\n",
              "</table>\n",
              "<p>1230 rows × 3 columns</p>\n",
              "</div>"
            ],
            "text/plain": [
              "                                    product_description     price price_value\n",
              "0     Elevate your style with this classy pair of Ru...   ₹279.00     ₹279.00\n",
              "1     The product will be an excellent pick for you....   ₹479.00     ₹479.00\n",
              "2     Flaunt with these stylish and unique red casua...   ₹430.00     ₹430.00\n",
              "3     Robbie Jones Shoes Are Designed To Keeping In ...   ₹499.00     ₹499.00\n",
              "4     Sparx is a spectacular range of footwear from ...   ₹499.00     ₹499.00\n",
              "...                                                 ...       ...         ...\n",
              "1225  The Nike react vision is a STORY of surreal co...  ₹7256.00    ₹7256.00\n",
              "1226  The B.O.G limitless is Puma's key style for th...  ₹5822.00    ₹5822.00\n",
              "1227  Lead the pack in New Balance’s Echolucent snea...  ₹5362.00    ₹5362.00\n",
              "1228  Nike మహిళల రన్నింగ్ షూ ఫీల్స్ మరియు రూపం మృదువ...  ₹7480.00    ₹7480.00\n",
              "1229  The GT-2000 7 achieves a reassuringly firm rid...  ₹5719.00    ₹5719.00\n",
              "\n",
              "[1230 rows x 3 columns]"
            ]
          },
          "metadata": {},
          "execution_count": 3
        }
      ]
    },
    {
      "cell_type": "markdown",
      "metadata": {
        "id": "ksergktDW40Z"
      },
      "source": [
        "## Подготовим датафрейм\n",
        "Уберем странные символы, почистим пунктуацию, лемматизируем \n",
        "\n",
        "Нормализируем цену от 0 до 1 ради одинаковой размерности таргета\n",
        "\n"
      ]
    },
    {
      "cell_type": "code",
      "metadata": {
        "colab": {
          "base_uri": "https://localhost:8080/",
          "height": 424
        },
        "id": "PMaPKhS8FztO",
        "outputId": "1af41dc2-befa-4428-b0bd-b8849825b2eb"
      },
      "source": [
        "price_df = prepare_data_frame(price_df).dropna()\n",
        "price_df"
      ],
      "execution_count": 4,
      "outputs": [
        {
          "output_type": "execute_result",
          "data": {
            "text/html": [
              "<div>\n",
              "<style scoped>\n",
              "    .dataframe tbody tr th:only-of-type {\n",
              "        vertical-align: middle;\n",
              "    }\n",
              "\n",
              "    .dataframe tbody tr th {\n",
              "        vertical-align: top;\n",
              "    }\n",
              "\n",
              "    .dataframe thead th {\n",
              "        text-align: right;\n",
              "    }\n",
              "</style>\n",
              "<table border=\"1\" class=\"dataframe\">\n",
              "  <thead>\n",
              "    <tr style=\"text-align: right;\">\n",
              "      <th></th>\n",
              "      <th>price_value</th>\n",
              "      <th>product_description</th>\n",
              "      <th>price</th>\n",
              "    </tr>\n",
              "  </thead>\n",
              "  <tbody>\n",
              "    <tr>\n",
              "      <th>0</th>\n",
              "      <td>279</td>\n",
              "      <td>elevate style classy pair running shoe house c...</td>\n",
              "      <td>0.019326</td>\n",
              "    </tr>\n",
              "    <tr>\n",
              "      <th>1</th>\n",
              "      <td>479</td>\n",
              "      <td>product excellent pick ensures easy maintenance</td>\n",
              "      <td>0.044755</td>\n",
              "    </tr>\n",
              "    <tr>\n",
              "      <th>2</th>\n",
              "      <td>430</td>\n",
              "      <td>flaunt stylish unique red casual shoe per late...</td>\n",
              "      <td>0.038525</td>\n",
              "    </tr>\n",
              "    <tr>\n",
              "      <th>3</th>\n",
              "      <td>499</td>\n",
              "      <td>robbie jones shoe designed keeping mind durabi...</td>\n",
              "      <td>0.047298</td>\n",
              "    </tr>\n",
              "    <tr>\n",
              "      <th>4</th>\n",
              "      <td>499</td>\n",
              "      <td>sparx spectacular range footwear house relaxo ...</td>\n",
              "      <td>0.047298</td>\n",
              "    </tr>\n",
              "    <tr>\n",
              "      <th>...</th>\n",
              "      <td>...</td>\n",
              "      <td>...</td>\n",
              "      <td>...</td>\n",
              "    </tr>\n",
              "    <tr>\n",
              "      <th>1225</th>\n",
              "      <td>7256</td>\n",
              "      <td>nike react vision story surreal comfort layere...</td>\n",
              "      <td>0.906421</td>\n",
              "    </tr>\n",
              "    <tr>\n",
              "      <th>1226</th>\n",
              "      <td>5822</td>\n",
              "      <td>bog limitless puma key style new season inspir...</td>\n",
              "      <td>0.724094</td>\n",
              "    </tr>\n",
              "    <tr>\n",
              "      <th>1227</th>\n",
              "      <td>5362</td>\n",
              "      <td>lead pack new balance echolucent sneaker sneak...</td>\n",
              "      <td>0.665607</td>\n",
              "    </tr>\n",
              "    <tr>\n",
              "      <th>1228</th>\n",
              "      <td>7480</td>\n",
              "      <td>nike k nike woman running shoe feel even look ...</td>\n",
              "      <td>0.934901</td>\n",
              "    </tr>\n",
              "    <tr>\n",
              "      <th>1229</th>\n",
              "      <td>5719</td>\n",
              "      <td>gt achieves reassuringly firm ride feature kee...</td>\n",
              "      <td>0.710998</td>\n",
              "    </tr>\n",
              "  </tbody>\n",
              "</table>\n",
              "<p>1227 rows × 3 columns</p>\n",
              "</div>"
            ],
            "text/plain": [
              "      price_value                                product_description     price\n",
              "0             279  elevate style classy pair running shoe house c...  0.019326\n",
              "1             479    product excellent pick ensures easy maintenance  0.044755\n",
              "2             430  flaunt stylish unique red casual shoe per late...  0.038525\n",
              "3             499  robbie jones shoe designed keeping mind durabi...  0.047298\n",
              "4             499  sparx spectacular range footwear house relaxo ...  0.047298\n",
              "...           ...                                                ...       ...\n",
              "1225         7256  nike react vision story surreal comfort layere...  0.906421\n",
              "1226         5822  bog limitless puma key style new season inspir...  0.724094\n",
              "1227         5362  lead pack new balance echolucent sneaker sneak...  0.665607\n",
              "1228         7480  nike k nike woman running shoe feel even look ...  0.934901\n",
              "1229         5719  gt achieves reassuringly firm ride feature kee...  0.710998\n",
              "\n",
              "[1227 rows x 3 columns]"
            ]
          },
          "metadata": {},
          "execution_count": 4
        }
      ]
    },
    {
      "cell_type": "markdown",
      "metadata": {
        "id": "KaP-QRI1c1wm"
      },
      "source": [
        "## Данные"
      ]
    },
    {
      "cell_type": "code",
      "metadata": {
        "colab": {
          "base_uri": "https://localhost:8080/",
          "height": 300
        },
        "id": "WCqKqBXtc6xs",
        "outputId": "179423ab-17ff-405b-cde3-c2784a5b56a9"
      },
      "source": [
        "price_df.describe()"
      ],
      "execution_count": 5,
      "outputs": [
        {
          "output_type": "execute_result",
          "data": {
            "text/html": [
              "<div>\n",
              "<style scoped>\n",
              "    .dataframe tbody tr th:only-of-type {\n",
              "        vertical-align: middle;\n",
              "    }\n",
              "\n",
              "    .dataframe tbody tr th {\n",
              "        vertical-align: top;\n",
              "    }\n",
              "\n",
              "    .dataframe thead th {\n",
              "        text-align: right;\n",
              "    }\n",
              "</style>\n",
              "<table border=\"1\" class=\"dataframe\">\n",
              "  <thead>\n",
              "    <tr style=\"text-align: right;\">\n",
              "      <th></th>\n",
              "      <th>price_value</th>\n",
              "      <th>price</th>\n",
              "    </tr>\n",
              "  </thead>\n",
              "  <tbody>\n",
              "    <tr>\n",
              "      <th>count</th>\n",
              "      <td>1227.000000</td>\n",
              "      <td>1227.000000</td>\n",
              "    </tr>\n",
              "    <tr>\n",
              "      <th>mean</th>\n",
              "      <td>2024.590872</td>\n",
              "      <td>0.241270</td>\n",
              "    </tr>\n",
              "    <tr>\n",
              "      <th>std</th>\n",
              "      <td>1721.980165</td>\n",
              "      <td>0.218942</td>\n",
              "    </tr>\n",
              "    <tr>\n",
              "      <th>min</th>\n",
              "      <td>127.000000</td>\n",
              "      <td>0.000000</td>\n",
              "    </tr>\n",
              "    <tr>\n",
              "      <th>25%</th>\n",
              "      <td>620.500000</td>\n",
              "      <td>0.062746</td>\n",
              "    </tr>\n",
              "    <tr>\n",
              "      <th>50%</th>\n",
              "      <td>1580.000000</td>\n",
              "      <td>0.184743</td>\n",
              "    </tr>\n",
              "    <tr>\n",
              "      <th>75%</th>\n",
              "      <td>2831.000000</td>\n",
              "      <td>0.343802</td>\n",
              "    </tr>\n",
              "    <tr>\n",
              "      <th>max</th>\n",
              "      <td>7992.000000</td>\n",
              "      <td>1.000000</td>\n",
              "    </tr>\n",
              "  </tbody>\n",
              "</table>\n",
              "</div>"
            ],
            "text/plain": [
              "       price_value        price\n",
              "count  1227.000000  1227.000000\n",
              "mean   2024.590872     0.241270\n",
              "std    1721.980165     0.218942\n",
              "min     127.000000     0.000000\n",
              "25%     620.500000     0.062746\n",
              "50%    1580.000000     0.184743\n",
              "75%    2831.000000     0.343802\n",
              "max    7992.000000     1.000000"
            ]
          },
          "metadata": {},
          "execution_count": 5
        }
      ]
    },
    {
      "cell_type": "markdown",
      "metadata": {
        "id": "GUdYyIsoXoC0"
      },
      "source": [
        "У нас достаточно много выбросов (и мало данных)"
      ]
    },
    {
      "cell_type": "code",
      "metadata": {
        "colab": {
          "base_uri": "https://localhost:8080/",
          "height": 592
        },
        "id": "DYbRY8JJlSWu",
        "outputId": "4ce323c9-fbf3-492f-abcc-71de53b93823"
      },
      "source": [
        "fig, ax = plt.subplots(figsize=(10, 10))\n",
        "ax = plt.boxplot(price_df['price_value'])\n",
        "plt.show()"
      ],
      "execution_count": 6,
      "outputs": [
        {
          "output_type": "display_data",
          "data": {
            "image/png": "[encoded data removed]",
            "text/plain": [
              "<Figure size 720x720 with 1 Axes>"
            ]
          },
          "metadata": {
            "needs_background": "light"
          }
        }
      ]
    },
    {
      "cell_type": "markdown",
      "metadata": {
        "id": "9r3TF8UEXwUa"
      },
      "source": [
        "Поделим выборку на трейн и тест"
      ]
    },
    {
      "cell_type": "code",
      "metadata": {
        "id": "f6TD5MqPzcne"
      },
      "source": [
        "X_train, X_test, y_train, y_test = train_test_split(\n",
        "    price_df['product_description'],\n",
        "    price_df['price'], \n",
        "    train_size=0.8, \n",
        "    test_size=0.2, \n",
        "    random_state=228)"
      ],
      "execution_count": 7,
      "outputs": []
    },
    {
      "cell_type": "markdown",
      "metadata": {
        "id": "wpHAzJy6X17v"
      },
      "source": [
        "## Модели\n",
        "\n",
        "Я использовал пайплайны (очень удобно) для гридсерча по моделям\n",
        "\n",
        "Попробуем разные векторизации для RidgeCV\n",
        "\n",
        "В качестве скоринга будем использовать R2 (коеффицент детерминации)\n"
      ]
    },
    {
      "cell_type": "code",
      "metadata": {
        "colab": {
          "base_uri": "https://localhost:8080/"
        },
        "id": "4iqM7fpIrMOo",
        "outputId": "ce100904-3c42-4bd3-ff7f-868ad9064461"
      },
      "source": [
        "pipeline = Pipeline([('vec', CountVectorizer()),\n",
        " ('tfidf', TfidfTransformer()),\n",
        " ('reg', RidgeCV(gcv_mode='auto'))])\n",
        "\n",
        "parameters = {'vec__ngram_range': [(1, 1), (1, 2), (1, 3), (2, 2), (2, 3)],\n",
        "               'tfidf__use_idf': (True, False),\n",
        "               'tfidf__smooth_idf': (True, False),\n",
        "               'tfidf__sublinear_tf': (True, False),\n",
        "               'reg__normalize': (True, False)\n",
        "              }\n",
        "               \n",
        "ridgecv_cv = GridSearchCV(pipeline, parameters, n_jobs=-1, scoring = \"r2\")\n",
        "ridgecv_cv = ridgecv_cv.fit(X_train, y_train)\n",
        "print('Best params: ', ridgecv_cv.best_params_)\n",
        "preds = ridgecv_cv.predict(X_test)\n",
        "print('R2 score: ', r2_score(preds, y_test))\n",
        "print('MAE score: ', mean_absolute_error(preds, y_test))\n",
        "print('RMSE score: ', np.sqrt(mean_squared_error(y_test, preds)))"
      ],
      "execution_count": 8,
      "outputs": [
        {
          "output_type": "stream",
          "name": "stdout",
          "text": [
            "Best params:  {'reg__normalize': False, 'tfidf__smooth_idf': False, 'tfidf__sublinear_tf': True, 'tfidf__use_idf': True, 'vec__ngram_range': (1, 3)}\n",
            "R2 score:  0.6660447283752144\n",
            "MAE score:  0.06438829773956764\n",
            "RMSE score:  0.11012801630544752\n"
          ]
        }
      ]
    },
    {
      "cell_type": "code",
      "metadata": {
        "colab": {
          "base_uri": "https://localhost:8080/"
        },
        "id": "aELsbnlULos_",
        "outputId": "fcda950c-53ed-4073-f947-6bc1683b178b"
      },
      "source": [
        "pipeline = Pipeline([('vec', TfidfVectorizer()),\n",
        " ('tfidf', TfidfTransformer()),\n",
        " ('reg', RidgeCV(gcv_mode='auto'))])\n",
        "\n",
        "parameters = {'tfidf__use_idf': (True, False),\n",
        "               'tfidf__smooth_idf': (True, False),\n",
        "               'tfidf__sublinear_tf': (True, False),\n",
        "               'reg__normalize': (True, False)\n",
        "              }\n",
        "               \n",
        "ridgecv_tfidf = GridSearchCV(pipeline, parameters, n_jobs=-1, scoring = \"r2\")\n",
        "ridgecv_tfidf = ridgecv_tfidf.fit(X_train, y_train)\n",
        "print('Best params: ', ridgecv_tfidf.best_params_)\n",
        "preds = ridgecv_tfidf.predict(X_test)\n",
        "print('R2 score: ', r2_score(preds, y_test))\n",
        "print('MAE score: ', mean_absolute_error(preds, y_test))\n",
        "print('RMSE score: ', np.sqrt(mean_squared_error(y_test, preds)))"
      ],
      "execution_count": 9,
      "outputs": [
        {
          "output_type": "stream",
          "name": "stdout",
          "text": [
            "Best params:  {'reg__normalize': False, 'tfidf__smooth_idf': False, 'tfidf__sublinear_tf': False, 'tfidf__use_idf': True}\n",
            "R2 score:  0.6064345471641764\n",
            "MAE score:  0.06995770902563611\n",
            "RMSE score:  0.12012572972039161\n"
          ]
        }
      ]
    },
    {
      "cell_type": "code",
      "metadata": {
        "colab": {
          "base_uri": "https://localhost:8080/"
        },
        "id": "mjzC5A0bkUL4",
        "outputId": "136b4149-2fb2-4509-c4ba-b3998b12129f"
      },
      "source": [
        "pipeline = Pipeline([('vec', CountVectorizer()),\n",
        " ('tfidf', TfidfTransformer()),\n",
        " ('reg', LinearRegression())])\n",
        "\n",
        "parameters = {'vec__ngram_range': [(1, 1), (1, 2), (1, 3), (2, 2), (2, 3)],\n",
        "               'tfidf__use_idf': (True, False),\n",
        "               'tfidf__smooth_idf': (True, False),\n",
        "               'tfidf__sublinear_tf': (True, False),\n",
        "               'reg__normalize': (True, False)}\n",
        "               \n",
        "linreg_cv = GridSearchCV(pipeline, parameters, n_jobs=-1, scoring = \"r2\")\n",
        "linreg_cv = linreg_cv.fit(X_train, y_train)\n",
        "print('Best params: ', linreg_cv.best_params_)\n",
        "preds = linreg_cv.predict(X_test)\n",
        "print('R2 score: ', r2_score(preds, y_test))\n",
        "print('MAE score: ', mean_absolute_error(preds, y_test))\n",
        "print('RMSE score: ', np.sqrt(mean_squared_error(y_test, preds)))"
      ],
      "execution_count": 10,
      "outputs": [
        {
          "output_type": "stream",
          "name": "stdout",
          "text": [
            "Best params:  {'reg__normalize': False, 'tfidf__smooth_idf': False, 'tfidf__sublinear_tf': False, 'tfidf__use_idf': True, 'vec__ngram_range': (2, 3)}\n",
            "R2 score:  0.6018306070707805\n",
            "MAE score:  0.06764319167666595\n",
            "RMSE score:  0.1230406357038957\n"
          ]
        }
      ]
    },
    {
      "cell_type": "code",
      "metadata": {
        "colab": {
          "base_uri": "https://localhost:8080/"
        },
        "id": "NKuiUzBAlZ8Q",
        "outputId": "cd9c4ed6-3449-4d90-9841-f399b48de439"
      },
      "source": [
        "pipeline = Pipeline([('vec', TfidfVectorizer()),\n",
        " ('tfidf', TfidfTransformer()),\n",
        " ('reg', LinearRegression())])\n",
        "\n",
        "parameters = {\n",
        "               'tfidf__use_idf': (True, False),\n",
        "               'tfidf__smooth_idf': (True, False),\n",
        "               'tfidf__sublinear_tf': (True, False),\n",
        "               'reg__normalize': (True, False)}\n",
        "               \n",
        "linreg_tfidf = GridSearchCV(pipeline, parameters, n_jobs=-1, scoring = \"r2\")\n",
        "linreg_tfidf = linreg_tfidf.fit(X_train, y_train)\n",
        "print('Best params: ', linreg_tfidf.best_params_)\n",
        "preds = linreg_tfidf.predict(X_test)\n",
        "print('R2 score: ', r2_score(preds, y_test))\n",
        "print('MAE score: ', mean_absolute_error(preds, y_test))\n",
        "print('RMSE score: ', np.sqrt(mean_squared_error(y_test, preds)))"
      ],
      "execution_count": 11,
      "outputs": [
        {
          "output_type": "stream",
          "name": "stdout",
          "text": [
            "Best params:  {'reg__normalize': True, 'tfidf__smooth_idf': False, 'tfidf__sublinear_tf': False, 'tfidf__use_idf': True}\n",
            "R2 score:  0.05715944042440513\n",
            "MAE score:  0.23193613100314867\n",
            "RMSE score:  0.4524866198746389\n"
          ]
        }
      ]
    },
    {
      "cell_type": "markdown",
      "metadata": {
        "id": "b-QMLwalspuP"
      },
      "source": [
        "Лучше всего показал себя RidgeCV + CountVectorizer (судя по коеффиценту детерминации R2 score и explained_variance_score)"
      ]
    },
    {
      "cell_type": "code",
      "metadata": {
        "colab": {
          "base_uri": "https://localhost:8080/"
        },
        "id": "0ei25_vwueHr",
        "outputId": "c9953f34-f98a-49dc-bf53-06d58e952f1a"
      },
      "source": [
        "preds = ridgecv_cv.predict(X_test)\n",
        "explained_variance_score(y_test, preds)"
      ],
      "execution_count": 13,
      "outputs": [
        {
          "output_type": "execute_result",
          "data": {
            "text/plain": [
              "0.744102975620909"
            ]
          },
          "metadata": {},
          "execution_count": 13
        }
      ]
    },
    {
      "cell_type": "markdown",
      "metadata": {
        "id": "WQJzmtjctO7Y"
      },
      "source": [
        "## Что делать?\n",
        "\n",
        "Было бы круто сделать дополнительные фичи и анализировать, например, бренд: например, кроссовки от луи виттон будут стоить обычно дороже, чем какой-нибудь демикс. Возможно еще важен пол, не уверен. \n",
        "\n",
        "Также стоит почистить данные от выбросов"
      ]
    },
    {
      "cell_type": "markdown",
      "metadata": {
        "id": "CQfUuzdkSX1T"
      },
      "source": [
        "# Rating prediction\n"
      ]
    },
    {
      "cell_type": "code",
      "metadata": {
        "id": "TKyaG8eSrMJn"
      },
      "source": [
        "def prepare_data_rating(df):\n",
        "  all_reviews = df['reviews'].str.split(pat=\"\\|\\| \", expand=True).stack().reset_index(drop=True)\n",
        "  all_ratings = df['reviews_rating'].str.split(pat=\"\\|\\| \", expand=True).stack().reset_index(drop=True)\n",
        "  out_df = pd.DataFrame()\n",
        "  out_df['review'] = all_reviews.apply(clean_description).dropna()\n",
        "  out_df['reviews_rating'] = all_ratings.apply(get_rating)\n",
        "  return out_df\n",
        "\n",
        "def get_rating(x):\n",
        "  return str(x)[0]"
      ],
      "execution_count": 14,
      "outputs": []
    },
    {
      "cell_type": "markdown",
      "metadata": {
        "id": "n5d3RDywZGWY"
      },
      "source": [
        "## Подготовим датафрейм\n",
        "\n",
        "Сделаем то же самое, что и с описанием"
      ]
    },
    {
      "cell_type": "code",
      "metadata": {
        "id": "CFUqK5mnrlWV",
        "colab": {
          "base_uri": "https://localhost:8080/",
          "height": 424
        },
        "outputId": "782a26f2-91e4-401e-c501-fce2e91e4c94"
      },
      "source": [
        "raw_rating = data[['reviews', 'reviews_rating']]\n",
        "rating_df = prepare_data_rating(raw_rating)\n",
        "rating_df = rating_df.dropna()\n",
        "rating_df"
      ],
      "execution_count": 15,
      "outputs": [
        {
          "output_type": "execute_result",
          "data": {
            "text/html": [
              "<div>\n",
              "<style scoped>\n",
              "    .dataframe tbody tr th:only-of-type {\n",
              "        vertical-align: middle;\n",
              "    }\n",
              "\n",
              "    .dataframe tbody tr th {\n",
              "        vertical-align: top;\n",
              "    }\n",
              "\n",
              "    .dataframe thead th {\n",
              "        text-align: right;\n",
              "    }\n",
              "</style>\n",
              "<table border=\"1\" class=\"dataframe\">\n",
              "  <thead>\n",
              "    <tr style=\"text-align: right;\">\n",
              "      <th></th>\n",
              "      <th>review</th>\n",
              "      <th>reviews_rating</th>\n",
              "    </tr>\n",
              "  </thead>\n",
              "  <tbody>\n",
              "    <tr>\n",
              "      <th>0</th>\n",
              "      <td>happy product</td>\n",
              "      <td>1</td>\n",
              "    </tr>\n",
              "    <tr>\n",
              "      <th>1</th>\n",
              "      <td>expected</td>\n",
              "      <td>1</td>\n",
              "    </tr>\n",
              "    <tr>\n",
              "      <th>2</th>\n",
              "      <td>average product</td>\n",
              "      <td>3</td>\n",
              "    </tr>\n",
              "    <tr>\n",
              "      <th>3</th>\n",
              "      <td>pic beautiful</td>\n",
              "      <td>3</td>\n",
              "    </tr>\n",
              "    <tr>\n",
              "      <th>4</th>\n",
              "      <td>got damage product quality average</td>\n",
              "      <td>3</td>\n",
              "    </tr>\n",
              "    <tr>\n",
              "      <th>...</th>\n",
              "      <td>...</td>\n",
              "      <td>...</td>\n",
              "    </tr>\n",
              "    <tr>\n",
              "      <th>9953</th>\n",
              "      <td>go</td>\n",
              "      <td>5</td>\n",
              "    </tr>\n",
              "    <tr>\n",
              "      <th>9954</th>\n",
              "      <td>excellent product</td>\n",
              "      <td>5</td>\n",
              "    </tr>\n",
              "    <tr>\n",
              "      <th>9955</th>\n",
              "      <td>nice shoe</td>\n",
              "      <td>5</td>\n",
              "    </tr>\n",
              "    <tr>\n",
              "      <th>9956</th>\n",
              "      <td>nice</td>\n",
              "      <td>5</td>\n",
              "    </tr>\n",
              "    <tr>\n",
              "      <th>9957</th>\n",
              "      <td>asics shoe best</td>\n",
              "      <td>5</td>\n",
              "    </tr>\n",
              "  </tbody>\n",
              "</table>\n",
              "<p>8717 rows × 2 columns</p>\n",
              "</div>"
            ],
            "text/plain": [
              "                                  review reviews_rating\n",
              "0                          happy product              1\n",
              "1                               expected              1\n",
              "2                        average product              3\n",
              "3                          pic beautiful              3\n",
              "4     got damage product quality average              3\n",
              "...                                  ...            ...\n",
              "9953                                  go              5\n",
              "9954                   excellent product              5\n",
              "9955                           nice shoe              5\n",
              "9956                                nice              5\n",
              "9957                     asics shoe best              5\n",
              "\n",
              "[8717 rows x 2 columns]"
            ]
          },
          "metadata": {},
          "execution_count": 15
        }
      ]
    },
    {
      "cell_type": "markdown",
      "metadata": {
        "id": "LmHrPFErZSnN"
      },
      "source": [
        "## Данные\n",
        "\n",
        "Посмотрим распределение классов в датафрейме"
      ]
    },
    {
      "cell_type": "code",
      "metadata": {
        "colab": {
          "base_uri": "https://localhost:8080/",
          "height": 279
        },
        "id": "K_kEncmLN45t",
        "outputId": "3cc9444b-2de8-4b88-e7cc-a81ee4d0095e"
      },
      "source": [
        "rating_df['reviews_rating'].value_counts().sort_index().plot.bar(color='green')"
      ],
      "execution_count": 16,
      "outputs": [
        {
          "output_type": "execute_result",
          "data": {
            "text/plain": [
              "<matplotlib.axes._subplots.AxesSubplot at 0x7f07f766cf10>"
            ]
          },
          "metadata": {},
          "execution_count": 16
        },
        {
          "output_type": "display_data",
          "data": {
            "image/png": "[encoded data removed]",
            "text/plain": [
              "<Figure size 432x288 with 1 Axes>"
            ]
          },
          "metadata": {
            "needs_background": "light"
          }
        }
      ]
    },
    {
      "cell_type": "markdown",
      "metadata": {
        "id": "iAtyzRAJZbo4"
      },
      "source": [
        "Есть сильный дисбаланс классов. Это не очень хорошо для классификации"
      ]
    },
    {
      "cell_type": "code",
      "metadata": {
        "id": "sngYUeNJxP-n"
      },
      "source": [
        "X_train, X_test, y_train, y_test = train_test_split(\n",
        "    rating_df['review'], \n",
        "    rating_df['reviews_rating'], \n",
        "    train_size=0.8, \n",
        "    test_size=0.2, \n",
        "    random_state=228)"
      ],
      "execution_count": 17,
      "outputs": []
    },
    {
      "cell_type": "markdown",
      "metadata": {
        "id": "06fJJjizZyKR"
      },
      "source": [
        "## Модели\n",
        "\n",
        "Попробуем разную векторизацию для MultinomialNB\n",
        "\n",
        "Для скоринга будем использовать F1 weighted из-за дизбаланса классов"
      ]
    },
    {
      "cell_type": "code",
      "metadata": {
        "colab": {
          "base_uri": "https://localhost:8080/"
        },
        "id": "KTiFhnCVylmL",
        "outputId": "8f42ebb4-7e54-4e48-88b5-992b60ededaf"
      },
      "source": [
        "pipeline = Pipeline([('vec', CountVectorizer()),\n",
        " ('tfidf', TfidfTransformer()),\n",
        " ('clf', MultinomialNB())])\n",
        "\n",
        "parameters = {'vec__ngram_range': [(1, 1), (1, 2), (1, 3), (2, 2), (2, 3)],\n",
        "               'tfidf__use_idf': (True, False),\n",
        "               'tfidf__smooth_idf': (True, False),\n",
        "               'tfidf__sublinear_tf': (True, False),\n",
        "               'clf__alpha': (10, 1, 0.1, 0.01)}\n",
        "               \n",
        "mnb_cv = GridSearchCV(pipeline, parameters, n_jobs=-1, scoring = \"f1_weighted\")\n",
        "mnb_cv = mnb_cv.fit(X_train, y_train)\n",
        "\n",
        "print('Best params: ', mnb_cv.best_params_)\n",
        "preds = mnb_cv.predict(X_test)\n",
        "print('F1 weighted score: ', f1_score(preds, y_test, average='weighted'))"
      ],
      "execution_count": 18,
      "outputs": [
        {
          "output_type": "stream",
          "name": "stdout",
          "text": [
            "Best params:  {'clf__alpha': 0.01, 'tfidf__smooth_idf': True, 'tfidf__sublinear_tf': True, 'tfidf__use_idf': False, 'vec__ngram_range': (1, 3)}\n",
            "F1 weighted score:  0.6941092469492488\n"
          ]
        }
      ]
    },
    {
      "cell_type": "code",
      "metadata": {
        "colab": {
          "base_uri": "https://localhost:8080/"
        },
        "id": "qubgAbcZaIke",
        "outputId": "76d59178-f84f-4104-c000-49265ec62590"
      },
      "source": [
        "pipeline = Pipeline([('vec', TfidfVectorizer()),\n",
        " ('tfidf', TfidfTransformer()),\n",
        " ('clf', MultinomialNB())])\n",
        "\n",
        "parameters = {'tfidf__use_idf': (True, False),\n",
        "               'tfidf__smooth_idf': (True, False),\n",
        "               'tfidf__sublinear_tf': (True, False),\n",
        "               'clf__alpha': (10, 1, 0.1, 0.01)}\n",
        "               \n",
        "mnb_tfidf = GridSearchCV(pipeline, parameters, n_jobs=-1, scoring = \"f1_weighted\")\n",
        "mnb_tfidf = mnb_tfidf.fit(X_train, y_train)\n",
        "\n",
        "print('Best params: ', mnb_tfidf.best_params_)\n",
        "preds = mnb_tfidf.predict(X_test)\n",
        "print('F1 weighted score: ', f1_score(preds, y_test, average='weighted'))"
      ],
      "execution_count": 19,
      "outputs": [
        {
          "output_type": "stream",
          "name": "stdout",
          "text": [
            "Best params:  {'clf__alpha': 0.1, 'tfidf__smooth_idf': True, 'tfidf__sublinear_tf': False, 'tfidf__use_idf': False}\n",
            "F1 weighted score:  0.6889615289986194\n"
          ]
        }
      ]
    },
    {
      "cell_type": "code",
      "metadata": {
        "id": "-zJ8bKyq_Dva",
        "colab": {
          "base_uri": "https://localhost:8080/"
        },
        "outputId": "a5312f8b-3d83-42f5-dd01-83a627bc0c94"
      },
      "source": [
        "pipeline = Pipeline([('vec', TfidfVectorizer()),\n",
        " ('tfidf', TfidfTransformer()),\n",
        " ('clf', LogisticRegression())])\n",
        "\n",
        "parameters = {\n",
        "              'tfidf__use_idf': (True, False),\n",
        "              'tfidf__smooth_idf': (True, False),\n",
        "              'tfidf__sublinear_tf': (True, False),\n",
        "              'clf__penalty': ('l1', 'l2', 'elasticnet', 'none'),\n",
        "              'clf__class_weight': ('balanced', None),\n",
        "              'clf__max_iter': (100, 1000)}\n",
        "               \n",
        "logreg_tfidf = GridSearchCV(pipeline, parameters, n_jobs=-1, scoring = \"f1_weighted\")\n",
        "logreg_tfidf = logreg_tfidf.fit(X_train, y_train)\n",
        "\n",
        "print('Best params: ', logreg_tfidf.best_params_)\n",
        "preds = logreg_tfidf.predict(X_test)\n",
        "print('F1 weighted score: ', f1_score(preds, y_test, average='weighted'))"
      ],
      "execution_count": 20,
      "outputs": [
        {
          "output_type": "stream",
          "name": "stdout",
          "text": [
            "Best params:  {'clf__class_weight': None, 'clf__max_iter': 100, 'clf__penalty': 'none', 'tfidf__smooth_idf': True, 'tfidf__sublinear_tf': False, 'tfidf__use_idf': False}\n",
            "F1 weighted score:  0.6637644286894793\n"
          ]
        },
        {
          "output_type": "stream",
          "name": "stderr",
          "text": [
            "/usr/local/lib/python3.7/dist-packages/sklearn/linear_model/_logistic.py:940: ConvergenceWarning: lbfgs failed to converge (status=1):\n",
            "STOP: TOTAL NO. of ITERATIONS REACHED LIMIT.\n",
            "\n",
            "Increase the number of iterations (max_iter) or scale the data as shown in:\n",
            "    https://scikit-learn.org/stable/modules/preprocessing.html\n",
            "Please also refer to the documentation for alternative solver options:\n",
            "    https://scikit-learn.org/stable/modules/linear_model.html#logistic-regression\n",
            "  extra_warning_msg=_LOGISTIC_SOLVER_CONVERGENCE_MSG)\n"
          ]
        }
      ]
    },
    {
      "cell_type": "code",
      "metadata": {
        "colab": {
          "base_uri": "https://localhost:8080/",
          "height": 380
        },
        "id": "_gG8cZ9Ch-_Y",
        "outputId": "a399a4a1-14c1-4b62-9763-567561b89807"
      },
      "source": [
        "pipeline = Pipeline([('vec', CountVectorizer()),\n",
        " ('tfidf', TfidfTransformer()),\n",
        " ('clf', LogisticRegression())])\n",
        "\n",
        "parameters = {'vec__ngram_range': [(1, 1), (1, 2), (1, 3), (2, 2), (2, 3)],\n",
        "              'tfidf__use_idf': (True, False),\n",
        "              'tfidf__smooth_idf': (True, False),\n",
        "              'tfidf__sublinear_tf': (True, False),\n",
        "              'clf__penalty': ('l1', 'l2', 'elasticnet', 'none'),\n",
        "              'clf__class_weight': ('balanced', None),\n",
        "              'clf__max_iter': (100, 1000)}\n",
        "               \n",
        "logreg_cv = GridSearchCV(pipeline, parameters, n_jobs=-1, scoring = \"f1_weighted\")\n",
        "logreg_cv = logreg_cv.fit(X_train, y_train)\n",
        "\n",
        "print('Best params: ', logreg_cv.best_params_)\n",
        "preds = logreg_cv.predict(X_test)\n",
        "print('F1 weighted score: ', f1_score(preds, y_test, average='weighted'))"
      ],
      "execution_count": 21,
      "outputs": [
        {
          "output_type": "error",
          "ename": "KeyboardInterrupt",
          "evalue": "ignored",
          "traceback": [
            "\u001b[0;31m---------------------------------------------------------------------------\u001b[0m",
            "\u001b[0;31mKeyboardInterrupt\u001b[0m                         Traceback (most recent call last)",
            "\u001b[0;32m<ipython-input-21-68e6493a9114>\u001b[0m in \u001b[0;36m<module>\u001b[0;34m()\u001b[0m\n\u001b[1;32m     12\u001b[0m \u001b[0;34m\u001b[0m\u001b[0m\n\u001b[1;32m     13\u001b[0m \u001b[0mlogreg_cv\u001b[0m \u001b[0;34m=\u001b[0m \u001b[0mGridSearchCV\u001b[0m\u001b[0;34m(\u001b[0m\u001b[0mpipeline\u001b[0m\u001b[0;34m,\u001b[0m \u001b[0mparameters\u001b[0m\u001b[0;34m,\u001b[0m \u001b[0mn_jobs\u001b[0m\u001b[0;34m=\u001b[0m\u001b[0;34m-\u001b[0m\u001b[0;36m1\u001b[0m\u001b[0;34m,\u001b[0m \u001b[0mscoring\u001b[0m \u001b[0;34m=\u001b[0m \u001b[0;34m\"f1_weighted\"\u001b[0m\u001b[0;34m)\u001b[0m\u001b[0;34m\u001b[0m\u001b[0;34m\u001b[0m\u001b[0m\n\u001b[0;32m---> 14\u001b[0;31m \u001b[0mlogreg_cv\u001b[0m \u001b[0;34m=\u001b[0m \u001b[0mlogreg_cv\u001b[0m\u001b[0;34m.\u001b[0m\u001b[0mfit\u001b[0m\u001b[0;34m(\u001b[0m\u001b[0mX_train\u001b[0m\u001b[0;34m,\u001b[0m \u001b[0my_train\u001b[0m\u001b[0;34m)\u001b[0m\u001b[0;34m\u001b[0m\u001b[0;34m\u001b[0m\u001b[0m\n\u001b[0m\u001b[1;32m     15\u001b[0m \u001b[0;34m\u001b[0m\u001b[0m\n\u001b[1;32m     16\u001b[0m \u001b[0mprint\u001b[0m\u001b[0;34m(\u001b[0m\u001b[0;34m'Best params: '\u001b[0m\u001b[0;34m,\u001b[0m \u001b[0mlogreg_cv\u001b[0m\u001b[0;34m.\u001b[0m\u001b[0mbest_params_\u001b[0m\u001b[0;34m)\u001b[0m\u001b[0;34m\u001b[0m\u001b[0;34m\u001b[0m\u001b[0m\n",
            "\u001b[0;32m/usr/local/lib/python3.7/dist-packages/sklearn/model_selection/_search.py\u001b[0m in \u001b[0;36mfit\u001b[0;34m(self, X, y, groups, **fit_params)\u001b[0m\n\u001b[1;32m    708\u001b[0m                 \u001b[0;32mreturn\u001b[0m \u001b[0mresults\u001b[0m\u001b[0;34m\u001b[0m\u001b[0;34m\u001b[0m\u001b[0m\n\u001b[1;32m    709\u001b[0m \u001b[0;34m\u001b[0m\u001b[0m\n\u001b[0;32m--> 710\u001b[0;31m             \u001b[0mself\u001b[0m\u001b[0;34m.\u001b[0m\u001b[0m_run_search\u001b[0m\u001b[0;34m(\u001b[0m\u001b[0mevaluate_candidates\u001b[0m\u001b[0;34m)\u001b[0m\u001b[0;34m\u001b[0m\u001b[0;34m\u001b[0m\u001b[0m\n\u001b[0m\u001b[1;32m    711\u001b[0m \u001b[0;34m\u001b[0m\u001b[0m\n\u001b[1;32m    712\u001b[0m         \u001b[0;31m# For multi-metric evaluation, store the best_index_, best_params_ and\u001b[0m\u001b[0;34m\u001b[0m\u001b[0;34m\u001b[0m\u001b[0;34m\u001b[0m\u001b[0m\n",
            "\u001b[0;32m/usr/local/lib/python3.7/dist-packages/sklearn/model_selection/_search.py\u001b[0m in \u001b[0;36m_run_search\u001b[0;34m(self, evaluate_candidates)\u001b[0m\n\u001b[1;32m   1149\u001b[0m     \u001b[0;32mdef\u001b[0m \u001b[0m_run_search\u001b[0m\u001b[0;34m(\u001b[0m\u001b[0mself\u001b[0m\u001b[0;34m,\u001b[0m \u001b[0mevaluate_candidates\u001b[0m\u001b[0;34m)\u001b[0m\u001b[0;34m:\u001b[0m\u001b[0;34m\u001b[0m\u001b[0;34m\u001b[0m\u001b[0m\n\u001b[1;32m   1150\u001b[0m         \u001b[0;34m\"\"\"Search all candidates in param_grid\"\"\"\u001b[0m\u001b[0;34m\u001b[0m\u001b[0;34m\u001b[0m\u001b[0m\n\u001b[0;32m-> 1151\u001b[0;31m         \u001b[0mevaluate_candidates\u001b[0m\u001b[0;34m(\u001b[0m\u001b[0mParameterGrid\u001b[0m\u001b[0;34m(\u001b[0m\u001b[0mself\u001b[0m\u001b[0;34m.\u001b[0m\u001b[0mparam_grid\u001b[0m\u001b[0;34m)\u001b[0m\u001b[0;34m)\u001b[0m\u001b[0;34m\u001b[0m\u001b[0;34m\u001b[0m\u001b[0m\n\u001b[0m\u001b[1;32m   1152\u001b[0m \u001b[0;34m\u001b[0m\u001b[0m\n\u001b[1;32m   1153\u001b[0m \u001b[0;34m\u001b[0m\u001b[0m\n",
            "\u001b[0;32m/usr/local/lib/python3.7/dist-packages/sklearn/model_selection/_search.py\u001b[0m in \u001b[0;36mevaluate_candidates\u001b[0;34m(candidate_params)\u001b[0m\n\u001b[1;32m    687\u001b[0m                                \u001b[0;32mfor\u001b[0m \u001b[0mparameters\u001b[0m\u001b[0;34m,\u001b[0m \u001b[0;34m(\u001b[0m\u001b[0mtrain\u001b[0m\u001b[0;34m,\u001b[0m \u001b[0mtest\u001b[0m\u001b[0;34m)\u001b[0m\u001b[0;34m\u001b[0m\u001b[0;34m\u001b[0m\u001b[0m\n\u001b[1;32m    688\u001b[0m                                in product(candidate_params,\n\u001b[0;32m--> 689\u001b[0;31m                                           cv.split(X, y, groups)))\n\u001b[0m\u001b[1;32m    690\u001b[0m \u001b[0;34m\u001b[0m\u001b[0m\n\u001b[1;32m    691\u001b[0m                 \u001b[0;32mif\u001b[0m \u001b[0mlen\u001b[0m\u001b[0;34m(\u001b[0m\u001b[0mout\u001b[0m\u001b[0;34m)\u001b[0m \u001b[0;34m<\u001b[0m \u001b[0;36m1\u001b[0m\u001b[0;34m:\u001b[0m\u001b[0;34m\u001b[0m\u001b[0;34m\u001b[0m\u001b[0m\n",
            "\u001b[0;32m/usr/local/lib/python3.7/dist-packages/joblib/parallel.py\u001b[0m in \u001b[0;36m__call__\u001b[0;34m(self, iterable)\u001b[0m\n\u001b[1;32m   1052\u001b[0m \u001b[0;34m\u001b[0m\u001b[0m\n\u001b[1;32m   1053\u001b[0m             \u001b[0;32mwith\u001b[0m \u001b[0mself\u001b[0m\u001b[0;34m.\u001b[0m\u001b[0m_backend\u001b[0m\u001b[0;34m.\u001b[0m\u001b[0mretrieval_context\u001b[0m\u001b[0;34m(\u001b[0m\u001b[0;34m)\u001b[0m\u001b[0;34m:\u001b[0m\u001b[0;34m\u001b[0m\u001b[0;34m\u001b[0m\u001b[0m\n\u001b[0;32m-> 1054\u001b[0;31m                 \u001b[0mself\u001b[0m\u001b[0;34m.\u001b[0m\u001b[0mretrieve\u001b[0m\u001b[0;34m(\u001b[0m\u001b[0;34m)\u001b[0m\u001b[0;34m\u001b[0m\u001b[0;34m\u001b[0m\u001b[0m\n\u001b[0m\u001b[1;32m   1055\u001b[0m             \u001b[0;31m# Make sure that we get a last message telling us we are done\u001b[0m\u001b[0;34m\u001b[0m\u001b[0;34m\u001b[0m\u001b[0;34m\u001b[0m\u001b[0m\n\u001b[1;32m   1056\u001b[0m             \u001b[0melapsed_time\u001b[0m \u001b[0;34m=\u001b[0m \u001b[0mtime\u001b[0m\u001b[0;34m.\u001b[0m\u001b[0mtime\u001b[0m\u001b[0;34m(\u001b[0m\u001b[0;34m)\u001b[0m \u001b[0;34m-\u001b[0m \u001b[0mself\u001b[0m\u001b[0;34m.\u001b[0m\u001b[0m_start_time\u001b[0m\u001b[0;34m\u001b[0m\u001b[0;34m\u001b[0m\u001b[0m\n",
            "\u001b[0;32m/usr/local/lib/python3.7/dist-packages/joblib/parallel.py\u001b[0m in \u001b[0;36mretrieve\u001b[0;34m(self)\u001b[0m\n\u001b[1;32m    931\u001b[0m             \u001b[0;32mtry\u001b[0m\u001b[0;34m:\u001b[0m\u001b[0;34m\u001b[0m\u001b[0;34m\u001b[0m\u001b[0m\n\u001b[1;32m    932\u001b[0m                 \u001b[0;32mif\u001b[0m \u001b[0mgetattr\u001b[0m\u001b[0;34m(\u001b[0m\u001b[0mself\u001b[0m\u001b[0;34m.\u001b[0m\u001b[0m_backend\u001b[0m\u001b[0;34m,\u001b[0m \u001b[0;34m'supports_timeout'\u001b[0m\u001b[0;34m,\u001b[0m \u001b[0;32mFalse\u001b[0m\u001b[0;34m)\u001b[0m\u001b[0;34m:\u001b[0m\u001b[0;34m\u001b[0m\u001b[0;34m\u001b[0m\u001b[0m\n\u001b[0;32m--> 933\u001b[0;31m                     \u001b[0mself\u001b[0m\u001b[0;34m.\u001b[0m\u001b[0m_output\u001b[0m\u001b[0;34m.\u001b[0m\u001b[0mextend\u001b[0m\u001b[0;34m(\u001b[0m\u001b[0mjob\u001b[0m\u001b[0;34m.\u001b[0m\u001b[0mget\u001b[0m\u001b[0;34m(\u001b[0m\u001b[0mtimeout\u001b[0m\u001b[0;34m=\u001b[0m\u001b[0mself\u001b[0m\u001b[0;34m.\u001b[0m\u001b[0mtimeout\u001b[0m\u001b[0;34m)\u001b[0m\u001b[0;34m)\u001b[0m\u001b[0;34m\u001b[0m\u001b[0;34m\u001b[0m\u001b[0m\n\u001b[0m\u001b[1;32m    934\u001b[0m                 \u001b[0;32melse\u001b[0m\u001b[0;34m:\u001b[0m\u001b[0;34m\u001b[0m\u001b[0;34m\u001b[0m\u001b[0m\n\u001b[1;32m    935\u001b[0m                     \u001b[0mself\u001b[0m\u001b[0;34m.\u001b[0m\u001b[0m_output\u001b[0m\u001b[0;34m.\u001b[0m\u001b[0mextend\u001b[0m\u001b[0;34m(\u001b[0m\u001b[0mjob\u001b[0m\u001b[0;34m.\u001b[0m\u001b[0mget\u001b[0m\u001b[0;34m(\u001b[0m\u001b[0;34m)\u001b[0m\u001b[0;34m)\u001b[0m\u001b[0;34m\u001b[0m\u001b[0;34m\u001b[0m\u001b[0m\n",
            "\u001b[0;32m/usr/local/lib/python3.7/dist-packages/joblib/_parallel_backends.py\u001b[0m in \u001b[0;36mwrap_future_result\u001b[0;34m(future, timeout)\u001b[0m\n\u001b[1;32m    540\u001b[0m         AsyncResults.get from multiprocessing.\"\"\"\n\u001b[1;32m    541\u001b[0m         \u001b[0;32mtry\u001b[0m\u001b[0;34m:\u001b[0m\u001b[0;34m\u001b[0m\u001b[0;34m\u001b[0m\u001b[0m\n\u001b[0;32m--> 542\u001b[0;31m             \u001b[0;32mreturn\u001b[0m \u001b[0mfuture\u001b[0m\u001b[0;34m.\u001b[0m\u001b[0mresult\u001b[0m\u001b[0;34m(\u001b[0m\u001b[0mtimeout\u001b[0m\u001b[0;34m=\u001b[0m\u001b[0mtimeout\u001b[0m\u001b[0;34m)\u001b[0m\u001b[0;34m\u001b[0m\u001b[0;34m\u001b[0m\u001b[0m\n\u001b[0m\u001b[1;32m    543\u001b[0m         \u001b[0;32mexcept\u001b[0m \u001b[0mCfTimeoutError\u001b[0m \u001b[0;32mas\u001b[0m \u001b[0me\u001b[0m\u001b[0;34m:\u001b[0m\u001b[0;34m\u001b[0m\u001b[0;34m\u001b[0m\u001b[0m\n\u001b[1;32m    544\u001b[0m             \u001b[0;32mraise\u001b[0m \u001b[0mTimeoutError\u001b[0m \u001b[0;32mfrom\u001b[0m \u001b[0me\u001b[0m\u001b[0;34m\u001b[0m\u001b[0;34m\u001b[0m\u001b[0m\n",
            "\u001b[0;32m/usr/lib/python3.7/concurrent/futures/_base.py\u001b[0m in \u001b[0;36mresult\u001b[0;34m(self, timeout)\u001b[0m\n\u001b[1;32m    428\u001b[0m                 \u001b[0;32mreturn\u001b[0m \u001b[0mself\u001b[0m\u001b[0;34m.\u001b[0m\u001b[0m__get_result\u001b[0m\u001b[0;34m(\u001b[0m\u001b[0;34m)\u001b[0m\u001b[0;34m\u001b[0m\u001b[0;34m\u001b[0m\u001b[0m\n\u001b[1;32m    429\u001b[0m \u001b[0;34m\u001b[0m\u001b[0m\n\u001b[0;32m--> 430\u001b[0;31m             \u001b[0mself\u001b[0m\u001b[0;34m.\u001b[0m\u001b[0m_condition\u001b[0m\u001b[0;34m.\u001b[0m\u001b[0mwait\u001b[0m\u001b[0;34m(\u001b[0m\u001b[0mtimeout\u001b[0m\u001b[0;34m)\u001b[0m\u001b[0;34m\u001b[0m\u001b[0;34m\u001b[0m\u001b[0m\n\u001b[0m\u001b[1;32m    431\u001b[0m \u001b[0;34m\u001b[0m\u001b[0m\n\u001b[1;32m    432\u001b[0m             \u001b[0;32mif\u001b[0m \u001b[0mself\u001b[0m\u001b[0;34m.\u001b[0m\u001b[0m_state\u001b[0m \u001b[0;32min\u001b[0m \u001b[0;34m[\u001b[0m\u001b[0mCANCELLED\u001b[0m\u001b[0;34m,\u001b[0m \u001b[0mCANCELLED_AND_NOTIFIED\u001b[0m\u001b[0;34m]\u001b[0m\u001b[0;34m:\u001b[0m\u001b[0;34m\u001b[0m\u001b[0;34m\u001b[0m\u001b[0m\n",
            "\u001b[0;32m/usr/lib/python3.7/threading.py\u001b[0m in \u001b[0;36mwait\u001b[0;34m(self, timeout)\u001b[0m\n\u001b[1;32m    294\u001b[0m         \u001b[0;32mtry\u001b[0m\u001b[0;34m:\u001b[0m    \u001b[0;31m# restore state no matter what (e.g., KeyboardInterrupt)\u001b[0m\u001b[0;34m\u001b[0m\u001b[0;34m\u001b[0m\u001b[0m\n\u001b[1;32m    295\u001b[0m             \u001b[0;32mif\u001b[0m \u001b[0mtimeout\u001b[0m \u001b[0;32mis\u001b[0m \u001b[0;32mNone\u001b[0m\u001b[0;34m:\u001b[0m\u001b[0;34m\u001b[0m\u001b[0;34m\u001b[0m\u001b[0m\n\u001b[0;32m--> 296\u001b[0;31m                 \u001b[0mwaiter\u001b[0m\u001b[0;34m.\u001b[0m\u001b[0macquire\u001b[0m\u001b[0;34m(\u001b[0m\u001b[0;34m)\u001b[0m\u001b[0;34m\u001b[0m\u001b[0;34m\u001b[0m\u001b[0m\n\u001b[0m\u001b[1;32m    297\u001b[0m                 \u001b[0mgotit\u001b[0m \u001b[0;34m=\u001b[0m \u001b[0;32mTrue\u001b[0m\u001b[0;34m\u001b[0m\u001b[0;34m\u001b[0m\u001b[0m\n\u001b[1;32m    298\u001b[0m             \u001b[0;32melse\u001b[0m\u001b[0;34m:\u001b[0m\u001b[0;34m\u001b[0m\u001b[0;34m\u001b[0m\u001b[0m\n",
            "\u001b[0;31mKeyboardInterrupt\u001b[0m: "
          ]
        }
      ]
    },
    {
      "cell_type": "code",
      "metadata": {
        "colab": {
          "base_uri": "https://localhost:8080/",
          "height": 625
        },
        "id": "ngNgYUs2L6Xo",
        "outputId": "fd07315c-0282-4d6c-efe1-fb19dd762220"
      },
      "source": [
        "fig, axs = plt.subplots(nrows=2, ncols=2, figsize=(15, 10)) \n",
        "plot_confusion_matrix(mnb_cv,\n",
        "                             rating_df['review'],\n",
        "                             rating_df['reviews_rating'],\n",
        "                             normalize='true',\n",
        "                             cmap='Greens',\n",
        "                             ax=axs[0][0])\n",
        "plot_confusion_matrix(mnb_tfidf,\n",
        "                             rating_df['review'],\n",
        "                             rating_df['reviews_rating'],\n",
        "                             normalize='true',\n",
        "                             cmap='Blues',\n",
        "                             ax=axs[0][1])\n",
        "\n",
        "# слишком долго обучалась, пришлось опустить\n",
        "#plot_confusion_matrix(logreg_cv,\n",
        "                             #rating_df['review'],\n",
        "                             #rating_df['reviews_rating'],\n",
        "                             #normalize='true',\n",
        "                             #cmap='Reds',\n",
        "                             #ax=axs[1][0])\n",
        "plot_confusion_matrix(logreg_tfidf,\n",
        "                             rating_df['review'],\n",
        "                             rating_df['reviews_rating'],\n",
        "                             normalize='true',\n",
        "                             cmap='Oranges',\n",
        "                             ax=axs[1][1])\n",
        "\n",
        "\n",
        "axs[0][0].set_title('MultinomialNB + CountVectorizer')\n",
        "axs[0][1].set_title('MultinomialNB + TfidfVectorizer')\n",
        "#axs[1][0].set_title('LogisticRegression + CountVectorizer')\n",
        "axs[1][1].set_title('LogisticRegression + TfidfVectorizer')\n",
        "plt.show()"
      ],
      "execution_count": 25,
      "outputs": [
        {
          "output_type": "display_data",
          "data": {
            "image/png": "[encoded data removed]",
            "text/plain": [
              "<Figure size 1080x720 with 7 Axes>"
            ]
          },
          "metadata": {
            "needs_background": "light"
          }
        }
      ]
    },
    {
      "cell_type": "markdown",
      "metadata": {
        "id": "3h7BLztOrSJZ"
      },
      "source": [
        "Видимо, из-за дизбаланса классов оценки 2-3-4 иногда предсказываются как 5\n",
        "\n",
        "Лучшая моделль MultinomialNB + Countvectorizer, однако она путает 5 и 4. Видимо, они достаточно похожи. Решается увеличением данных"
      ]
    },
    {
      "cell_type": "markdown",
      "metadata": {
        "id": "i1v2EjDPrlnP"
      },
      "source": [
        "## Что делать?\n",
        "\n",
        "В первую очередь надо разобраться с дисбалансом классов (upsampling, расширить классы например добавить примеров, использовать контекстуаьные эмбеддинги типа w2v для замены на синонимы итд.)\n",
        "\n"
      ]
    }
  ]
}